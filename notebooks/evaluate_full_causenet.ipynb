{
 "cells": [
  {
   "cell_type": "code",
   "execution_count": null,
   "id": "6f08c430",
   "metadata": {},
   "outputs": [],
   "source": [
    "import sys\n",
    "import os\n",
    "\n",
    "parent_path = \"..\"\n",
    "sys.path.append(os.path.abspath(parent_path))"
   ]
  },
  {
   "cell_type": "code",
   "execution_count": null,
   "id": "3e42d05d",
   "metadata": {},
   "outputs": [],
   "source": [
    "import pandas as pd\n",
    "import pathlib\n",
    "from health_causenet import constants\n",
    "import extract_medical\n",
    "from tqdm.autonotebook import tqdm\n",
    "import numpy as np\n",
    "import json"
   ]
  },
  {
   "cell_type": "code",
   "execution_count": null,
   "id": "59328a82",
   "metadata": {},
   "outputs": [],
   "source": [
    "full_causenet = pd.DataFrame()\n",
    "paths = sorted(pathlib.Path(constants.CAUSENET_PARQUET_PATH).glob(\"causenet_*.parquet\"), key=lambda x: int(str(x).split(\"_\")[-1][:-8]))\n",
    "for path in tqdm(paths):\n",
    "    from_file = pd.read_parquet(\n",
    "        path, columns=[\"cause\", \"effect\", \"support\", \"reference\", \"sentence\"]\n",
    "    )\n",
    "    full_causenet = pd.concat([full_causenet, from_file])\n",
    "full_causenet = full_causenet.reset_index(drop=True)\n",
    "full_causenet"
   ]
  },
  {
   "cell_type": "code",
   "execution_count": null,
   "id": "f2c79aa0",
   "metadata": {},
   "outputs": [],
   "source": [
    "def p_mean_threshold_combiner(cause, effect, p):\n",
    "    return ((cause ** p + effect ** p) / 2) ** (1 / p)\n",
    "\n",
    "def max_combiner(cause, effect):\n",
    "    return np.maximum(cause, effect)\n",
    "\n",
    "def min_combiner(cause, effect):\n",
    "    return np.minimum(cause, effect)\n",
    "\n",
    "ops = {\n",
    "    \"and\": lambda cause, effect: min_combiner(cause, effect),\n",
    "    \"p=1_mean\": lambda cause, effect: p_mean_threshold_combiner(cause, effect, 1),\n",
    "    \"p=2_mean\": lambda cause, effect: p_mean_threshold_combiner(cause, effect, 2),\n",
    "    \"p=5_mean\": lambda cause, effect: p_mean_threshold_combiner(cause, effect, 5),\n",
    "    \"p=10_mean\": lambda cause, effect: p_mean_threshold_combiner(cause, effect, 10),\n",
    "    \"p=inf_mean\": lambda cause, effect: max_combiner(cause, effect),\n",
    "}"
   ]
  },
  {
   "cell_type": "code",
   "execution_count": null,
   "id": "e958f987",
   "metadata": {},
   "outputs": [],
   "source": [
    "best_mcc = pd.read_csv(\"./test_best_approaches_mcc.csv\", index_col=0).set_index([\"dataset\", \"method_class\"])\n",
    "best_prec = pd.read_csv(\"./test_best_approaches_recall_precision_0.9.csv\", index_col=0).set_index([\"dataset\", \"method_class\"])\n",
    "\n",
    "full_mcc = best_mcc.loc[\"random_full\"].loc[[\"contrastive_weight\", \"term_domain_specificity\", \"discriminative_weight\"]].sort_values(\"mcc\").iloc[-1]\n",
    "full_prec = best_prec.loc[\"random_full\"].loc[[\"contrastive_weight\", \"term_domain_specificity\", \"discriminative_weight\"]].sort_values(\"recall\").iloc[-1]\n",
    "support_mcc = best_mcc.loc[\"random_support\"].loc[[\"contrastive_weight\", \"term_domain_specificity\", \"discriminative_weight\"]].sort_values(\"mcc\").iloc[-1]\n",
    "support_prec = best_prec.loc[\"random_support\"].loc[[\"contrastive_weight\", \"term_domain_specificity\", \"discriminative_weight\"]].sort_values(\"recall\").iloc[-1]\n",
    "\n",
    "file_patterns = {\n",
    "    \"full_mcc\": {\n",
    "        \"method\": full_mcc.method,\n",
    "        \"threshold\": full_mcc.threshold,\n",
    "        \"op\": full_mcc.operator,\n",
    "    },\n",
    "    \"full_prec\": {\n",
    "        \"method\": full_prec.method,\n",
    "        \"threshold\": full_prec.threshold,\n",
    "        \"op\": full_prec.operator,\n",
    "    },\n",
    "    \"support_mcc\": {\n",
    "        \"method\": support_mcc.method,\n",
    "        \"threshold\": support_mcc.threshold,\n",
    "        \"op\": support_mcc.operator,\n",
    "    },\n",
    "    \"support_prec\": {\n",
    "        \"method\": support_prec.method,\n",
    "        \"threshold\": support_prec.threshold,\n",
    "        \"op\": support_prec.operator,\n",
    "    }\n",
    "}\n",
    "\n",
    "print(json.dumps(file_patterns, indent=2))\n",
    "\n",
    "full_causenet_medical = full_causenet.copy()\n",
    "for name, kwargs in tqdm(list(file_patterns.items())):\n",
    "    medical_score = pd.DataFrame()\n",
    "    paths = []\n",
    "    while True:\n",
    "        paths = sorted(pathlib.Path(constants.CAUSENET_PARQUET_PATH).glob(kwargs[\"method\"].replace(\", \", \"_\") + \"_*.parquet\"), key=lambda x: int(str(x).split(\"_\")[-1][:-8]))\n",
    "        if paths:\n",
    "            break\n",
    "        termhood, corpus, n_gram_size, p = kwargs[\"method\"].split(\"-\")\n",
    "        n_grams = (n_gram_size[1], n_gram_size[4])\n",
    "        args = [termhood, \"--corpora\", corpus, \"--n_gram_size\", *n_grams, \"--p\", p]\n",
    "        extract_medical.main(args)\n",
    "        \n",
    "    for path in paths:\n",
    "        medical_score = pd.concat([medical_score, pd.read_parquet(path)])\n",
    "    medical = ops[kwargs[\"op\"]](medical_score[\"medical_score-cause\"], medical_score[\"medical_score-effect\"]) >= kwargs[\"threshold\"]\n",
    "    medical = pd.Series(medical, name=name).reset_index(drop=True)\n",
    "    full_causenet_medical = full_causenet_medical.join(medical)\n",
    "    \n",
    "full_causenet_medical.loc[full_causenet_medical.support == 1, list(filter(lambda x: \"support\" in x, file_patterns.keys()))] = np.nan\n",
    "causenet_medical = full_causenet_medical.drop([\"reference\", \"sentence\"], axis=1).drop_duplicates([\"cause\", \"effect\"]).reset_index(drop=True)\n",
    "full_causenet_medical"
   ]
  },
  {
   "cell_type": "code",
   "execution_count": null,
   "id": "26a3ca36",
   "metadata": {},
   "outputs": [],
   "source": [
    "causenet_medical"
   ]
  },
  {
   "cell_type": "code",
   "execution_count": null,
   "id": "41516fce",
   "metadata": {},
   "outputs": [],
   "source": [
    "causenet_medical.drop(\"support\", axis=1).to_csv(constants.CAUSENET_PARQUET_PATH + \"/health-causenet.tsv\", index=False, sep=\"\\t\")"
   ]
  },
  {
   "cell_type": "code",
   "execution_count": null,
   "id": "bf375ace",
   "metadata": {},
   "outputs": [],
   "source": [
    "full_causenet_medical.loc[:, list(file_patterns.keys())].agg([\"sum\", \"mean\", \"count\"]).astype(str)"
   ]
  },
  {
   "cell_type": "code",
   "execution_count": null,
   "id": "ab7cf207",
   "metadata": {},
   "outputs": [],
   "source": [
    "causenet_medical.loc[:, list(file_patterns.keys())].agg([\"sum\", \"mean\", \"count\"]).astype(str)"
   ]
  },
  {
   "cell_type": "code",
   "execution_count": null,
   "id": "bf804737",
   "metadata": {},
   "outputs": [],
   "source": [
    "tmp"
   ]
  },
  {
   "cell_type": "code",
   "execution_count": null,
   "id": "9a8d1251",
   "metadata": {},
   "outputs": [],
   "source": [
    "# tmp = full_causenet_medical.loc[full_causenet_medical.support_prec.fillna(False)]\n",
    "tmp = full_causenet_medical.loc[(full_causenet_medical.cause == \"cancer\") | (full_causenet_medical.cause == \"cancer\")]\n",
    "tmp[\"medical_score\"] = medical_score.loc[~medical_score.index.duplicated()].sum(axis=1)\n",
    "tmp.sort_values(\"medical_score\")"
   ]
  },
  {
   "cell_type": "code",
   "execution_count": null,
   "id": "d06e9c71",
   "metadata": {},
   "outputs": [],
   "source": [
    "for sentence in tmp.loc[tmp.sentence.str.contains(\"Virgo\", case=True), \"sentence\"].drop_duplicates().values:\n",
    "    print(sentence, \"\\n\")"
   ]
  },
  {
   "cell_type": "code",
   "execution_count": null,
   "id": "a65d64cd",
   "metadata": {},
   "outputs": [],
   "source": [
    "tmp = full_causenet_medical.loc[full_causenet_medical.support_prec.fillna(False)]\n",
    "tmp = tmp.loc[tmp.reference.str.contains(\"http://www.nlm.nih.gov/medlineplus/\")].sample(10)\n",
    "for sample in tmp.sample(10).values:\n",
    "    print(sample[0], \"->\", sample[1], sample[3], sample[4])\n",
    "    print()"
   ]
  },
  {
   "cell_type": "code",
   "execution_count": null,
   "id": "78eb9ec6",
   "metadata": {},
   "outputs": [],
   "source": [
    "tmp = full_causenet_medical.loc[full_causenet_medical.support_prec.fillna(False)]\n",
    "# tmp.loc[tmp.cause.str.contains(\"jupiter\")].drop_duplicates([\"cause\", \"effect\"]).head(20)\n",
    "for sample in tmp.sample(10).values:\n",
    "    print(sample[0], \"->\", sample[1], sample[3], sample[4])\n",
    "    print()"
   ]
  },
  {
   "cell_type": "code",
   "execution_count": null,
   "id": "50ecb7ae",
   "metadata": {},
   "outputs": [],
   "source": [
    "resources = [\n",
    "#     \"full_mcc\",\n",
    "    \"full_prec\",\n",
    "#     \"support_mcc\",\n",
    "#     \"support_prec\"\n",
    "]\n",
    "for resource in resources:\n",
    "    print(resource)\n",
    "    samples = full_causenet_medical.loc[full_causenet_medical.loc[:, resource] & ~full_causenet_medical.loc[:, resource].isna(), [\"cause\", \"effect\", \"support\", \"reference\", \"sentence\"]].sample(n=1000)\n",
    "    samples = samples.reset_index(drop=True)\n",
    "    samples.to_csv(constants.BASE_PATH + f\"resources/{resource}.csv\")"
   ]
  }
 ],
 "metadata": {
  "kernelspec": {
   "display_name": "Python 3 (ipykernel)",
   "language": "python",
   "name": "python3"
  },
  "language_info": {
   "codemirror_mode": {
    "name": "ipython",
    "version": 3
   },
   "file_extension": ".py",
   "mimetype": "text/x-python",
   "name": "python",
   "nbconvert_exporter": "python",
   "pygments_lexer": "ipython3",
   "version": "3.8.12"
  }
 },
 "nbformat": 4,
 "nbformat_minor": 5
}
